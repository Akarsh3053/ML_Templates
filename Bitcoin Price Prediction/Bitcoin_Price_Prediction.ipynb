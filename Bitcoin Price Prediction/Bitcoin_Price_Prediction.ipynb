{
 "cells": [
  {
   "cell_type": "markdown",
   "metadata": {},
   "source": [
    "# Bitcoin Price Prediction"
   ]
  },
  {
   "cell_type": "code",
   "execution_count": null,
   "metadata": {},
   "outputs": [],
   "source": [
    "## imports\n",
    "import numpy as np\n",
    "import pandas as pd\n",
    "from sklearn.model_selection import train_test_split\n",
    "from sklearn.svm import SVR"
   ]
  },
  {
   "cell_type": "code",
   "execution_count": null,
   "metadata": {},
   "outputs": [],
   "source": [
    "## read the dataset\n",
    "df = pd.read_csv('bitcoin.csv')"
   ]
  },
  {
   "cell_type": "code",
   "execution_count": null,
   "metadata": {},
   "outputs": [],
   "source": [
    "df.head() #preview dataset"
   ]
  },
  {
   "cell_type": "code",
   "execution_count": null,
   "metadata": {},
   "outputs": [],
   "source": [
    "## remove date column\n",
    "df.drop(['Date'],1,inplace=True)"
   ]
  },
  {
   "cell_type": "code",
   "execution_count": null,
   "metadata": {},
   "outputs": [],
   "source": [
    "df.head()"
   ]
  },
  {
   "cell_type": "code",
   "execution_count": null,
   "metadata": {},
   "outputs": [],
   "source": [
    "predictionDays = 30\n",
    "# Create another column shifted 'n'  units up\n",
    "df['Prediction'] = df[['Price']].shift(-predictionDays)\n",
    "# show the first 5 rows\n",
    "df.head()"
   ]
  },
  {
   "cell_type": "code",
   "execution_count": null,
   "metadata": {},
   "outputs": [],
   "source": [
    "df.tail()"
   ]
  },
  {
   "cell_type": "markdown",
   "metadata": {},
   "source": [
    "### Create the independent data set\n",
    "Here we will convert the data frame into a numpy array and drp the prediction column"
   ]
  },
  {
   "cell_type": "code",
   "execution_count": null,
   "metadata": {},
   "outputs": [],
   "source": [
    "x = np.array(df.drop(['Prediction'],1))\n",
    "# Remove the last 'n' rows where 'n' is the predictionDays\n",
    "x = x[:len(df)-predictionDays]\n",
    "print(x)"
   ]
  },
  {
   "cell_type": "markdown",
   "metadata": {},
   "source": [
    "### Create the dependent data set\n",
    "Here we will convert the data frame into a numpy array"
   ]
  },
  {
   "cell_type": "code",
   "execution_count": null,
   "metadata": {},
   "outputs": [],
   "source": [
    "y = np.array(df['Prediction'])\n",
    "# Get all the values except last 'n' rows\n",
    "y = y[:-predictionDays]\n",
    "print(y)"
   ]
  },
  {
   "cell_type": "code",
   "execution_count": null,
   "metadata": {},
   "outputs": [],
   "source": [
    "## train test split\n",
    "xtrain, xtest, ytrain, ytest = train_test_split(x,y, test_size = 0.2)\n",
    "\n",
    "# set the predictionDays array equal to last 30 rows from the original data set\n",
    "predictionDays_array = np.array(df.drop(['Prediction'],1))[-predictionDays:]\n",
    "print(predictionDays_array)"
   ]
  },
  {
   "cell_type": "code",
   "execution_count": null,
   "metadata": {},
   "outputs": [],
   "source": [
    "## SVR\n",
    "svr_rbf = SVR(kernel='rbf', C=1e3, gamma=0.00001)\n",
    "svr_rbf.fit(xtrain, ytrain)"
   ]
  },
  {
   "cell_type": "code",
   "execution_count": null,
   "metadata": {},
   "outputs": [],
   "source": [
    "## testing\n",
    "svr_rbf_confidence = svr_rbf.score(xtest,ytest)\n",
    "print('SVR_RBF accuracy :',svr_rbf_confidence)"
   ]
  },
  {
   "cell_type": "code",
   "execution_count": null,
   "metadata": {},
   "outputs": [],
   "source": [
    "# print the predicted values\n",
    "svm_prediction = svr_rbf.predict(xtest)\n",
    "print(svm_prediction)\n",
    "print()\n",
    "print(ytest)"
   ]
  },
  {
   "cell_type": "code",
   "execution_count": null,
   "metadata": {},
   "outputs": [],
   "source": [
    "# Print the model predictions for the next 30 days\n",
    "svm_prediction = svr_rbf.predict(predictionDays_array)\n",
    "print(svm_prediction)\n",
    "print()\n",
    "#Print the actual price for bitcoin for last 30 days\n",
    "print(df.tail(predictionDays))"
   ]
  },
  {
   "cell_type": "code",
   "execution_count": null,
   "metadata": {},
   "outputs": [],
   "source": []
  }
 ],
 "metadata": {
  "kernelspec": {
   "display_name": "Python 3 (ipykernel)",
   "language": "python",
   "name": "python3"
  },
  "language_info": {
   "codemirror_mode": {
    "name": "ipython",
    "version": 3
   },
   "file_extension": ".py",
   "mimetype": "text/x-python",
   "name": "python",
   "nbconvert_exporter": "python",
   "pygments_lexer": "ipython3",
   "version": "3.10.11"
  }
 },
 "nbformat": 4,
 "nbformat_minor": 4
}
